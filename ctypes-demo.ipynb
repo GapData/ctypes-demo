{
 "cells": [
  {
   "cell_type": "markdown",
   "metadata": {},
   "source": [
    "# Python ctypes"
   ]
  },
  {
   "cell_type": "code",
   "execution_count": 1,
   "metadata": {},
   "outputs": [],
   "source": [
    "import ctypes\n",
    "from ctypes import c_char, cdll"
   ]
  },
  {
   "cell_type": "markdown",
   "metadata": {},
   "source": [
    "## Loading a shared library"
   ]
  },
  {
   "cell_type": "code",
   "execution_count": 2,
   "metadata": {},
   "outputs": [
    {
     "data": {
      "text/plain": [
       "<CDLL 'libc.so.6', handle 7f862b950000 at 0x7f8623857198>"
      ]
     },
     "execution_count": 2,
     "metadata": {},
     "output_type": "execute_result"
    }
   ],
   "source": [
    "libc = cdll.LoadLibrary(\"libc.so.6\")\n",
    "libc"
   ]
  },
  {
   "cell_type": "code",
   "execution_count": 3,
   "metadata": {},
   "outputs": [
    {
     "data": {
      "text/plain": [
       "('libsodium.so.23', <CDLL 'libsodium.so.23', handle 1a6c8b0 at 0x7f8623857da0>)"
      ]
     },
     "execution_count": 3,
     "metadata": {},
     "output_type": "execute_result"
    }
   ],
   "source": [
    "import ctypes.util\n",
    "\n",
    "name = ctypes.util.find_library('sodium')\n",
    "libsodium = ctypes.cdll.LoadLibrary(name)\n",
    "name, libsodium"
   ]
  },
  {
   "cell_type": "markdown",
   "metadata": {},
   "source": [
    "## Using shared libary functions"
   ]
  },
  {
   "cell_type": "code",
   "execution_count": 4,
   "metadata": {},
   "outputs": [
    {
     "data": {
      "text/plain": [
       "596516649"
      ]
     },
     "execution_count": 4,
     "metadata": {},
     "output_type": "execute_result"
    }
   ],
   "source": [
    "libc.random()"
   ]
  },
  {
   "cell_type": "code",
   "execution_count": 5,
   "metadata": {},
   "outputs": [
    {
     "data": {
      "text/plain": [
       "14"
      ]
     },
     "execution_count": 5,
     "metadata": {},
     "output_type": "execute_result"
    }
   ],
   "source": [
    "libc.printf(b\"Hello, %s\\n\", b\"World!\")"
   ]
  },
  {
   "cell_type": "code",
   "execution_count": 6,
   "metadata": {},
   "outputs": [
    {
     "data": {
      "text/plain": [
       "14"
      ]
     },
     "execution_count": 6,
     "metadata": {},
     "output_type": "execute_result"
    }
   ],
   "source": [
    "len(b\"Hello, World!\\x00\")"
   ]
  },
  {
   "cell_type": "code",
   "execution_count": 7,
   "metadata": {},
   "outputs": [
    {
     "name": "stdout",
     "output_type": "stream",
     "text": [
      "Hello, World!\r\n"
     ]
    }
   ],
   "source": [
    "!python -c 'from ctypes import *; \\\n",
    "            libc = cdll.LoadLibrary(\"libc.so.6\"); \\\n",
    "            libc.printf(b\"Hello, %s\\n\", b\"World!\") '"
   ]
  },
  {
   "cell_type": "code",
   "execution_count": 8,
   "metadata": {},
   "outputs": [
    {
     "name": "stdout",
     "output_type": "stream",
     "text": [
      "1548259483\n",
      "1548259483.9506865\n"
     ]
    }
   ],
   "source": [
    "print(libc.time(None))\n",
    "\n",
    "import time\n",
    "print(time.time())"
   ]
  },
  {
   "cell_type": "code",
   "execution_count": 9,
   "metadata": {},
   "outputs": [
    {
     "data": {
      "text/plain": [
       "1548259484.016035"
      ]
     },
     "execution_count": 9,
     "metadata": {},
     "output_type": "execute_result"
    }
   ],
   "source": [
    "time.time()"
   ]
  },
  {
   "cell_type": "markdown",
   "metadata": {},
   "source": [
    "## Libsodium example (digital signatures)\n",
    "\n",
    "### Generating a new keypair"
   ]
  },
  {
   "cell_type": "code",
   "execution_count": 10,
   "metadata": {},
   "outputs": [
    {
     "name": "stdout",
     "output_type": "stream",
     "text": [
      "sk: 0000000000000000000000000000000000000000000000000000000000000000\n",
      "pk: 0000000000000000000000000000000000000000000000000000000000000000\n"
     ]
    }
   ],
   "source": [
    "# allocate space for keypair\n",
    "sk = bytearray(libsodium.crypto_sign_secretkeybytes())\n",
    "pk = bytearray(libsodium.crypto_sign_publickeybytes())\n",
    "\n",
    "# create corresponding ctypes\n",
    "c_sk = ctypes.ARRAY(c_char, len(sk)).from_buffer(sk)\n",
    "c_pk = ctypes.ARRAY(c_char, len(pk)).from_buffer(pk)\n",
    "\n",
    "print('sk:', sk[:32].hex())\n",
    "print('pk:', pk.hex())"
   ]
  },
  {
   "cell_type": "code",
   "execution_count": 11,
   "metadata": {},
   "outputs": [
    {
     "name": "stdout",
     "output_type": "stream",
     "text": [
      "sk: 638484c511c140d16ebb6cbe8be63b0d73f30a8b45e7552c5155ea206ce4135a\n",
      "pk: 1be5ab00747ecac062085aafa820f1b35c95559ac214f46a2c66beb334b16808\n"
     ]
    }
   ],
   "source": [
    "# randomly generate a fresh keypair\n",
    "libsodium.crypto_sign_keypair(c_pk, c_sk)\n",
    "\n",
    "print('sk:', sk[:32].hex())\n",
    "print('pk:', pk.hex())"
   ]
  },
  {
   "cell_type": "markdown",
   "metadata": {},
   "source": [
    "### Signing a message"
   ]
  },
  {
   "cell_type": "code",
   "execution_count": 12,
   "metadata": {},
   "outputs": [
    {
     "name": "stdout",
     "output_type": "stream",
     "text": [
      "sig: eaf34e05cc5647123f53b37ac029f6592fe1e4b23b2fbd3657be6e35ca2824ec...\n",
      "len: 64\n"
     ]
    }
   ],
   "source": [
    "msg = b\"Hello libsodium!\"\n",
    "c_msg = ctypes.create_string_buffer(msg)\n",
    "\n",
    "sig = bytearray(libsodium.crypto_sign_bytes())\n",
    "c_sig = ctypes.ARRAY(c_char, len(sig)).from_buffer(sig)\n",
    "c_siglen = ctypes.c_longlong()\n",
    "\n",
    "libsodium.crypto_sign_detached(\n",
    "    c_sig, ctypes.byref(c_siglen), c_msg, len(msg), c_sk\n",
    ") == 0\n",
    "\n",
    "print(f\"sig: {sig[:32].hex()}...\")\n",
    "print(\"len:\", c_siglen.value)"
   ]
  },
  {
   "cell_type": "markdown",
   "metadata": {},
   "source": [
    "### Verifying a signature"
   ]
  },
  {
   "cell_type": "code",
   "execution_count": 13,
   "metadata": {},
   "outputs": [
    {
     "data": {
      "text/plain": [
       "True"
      ]
     },
     "execution_count": 13,
     "metadata": {},
     "output_type": "execute_result"
    }
   ],
   "source": [
    "libsodium.crypto_sign_verify_detached(c_sig, c_msg, len(msg), c_pk) == 0"
   ]
  },
  {
   "cell_type": "code",
   "execution_count": 14,
   "metadata": {},
   "outputs": [
    {
     "data": {
      "text/plain": [
       "False"
      ]
     },
     "execution_count": 14,
     "metadata": {},
     "output_type": "execute_result"
    }
   ],
   "source": [
    "c_other_msg = ctypes.create_string_buffer(b\"Hello libsodium?\")\n",
    "libsodium.crypto_sign_verify_detached(\n",
    "    c_sig, c_other_msg, len(c_other_msg), c_pk\n",
    ") == 0"
   ]
  },
  {
   "cell_type": "code",
   "execution_count": 15,
   "metadata": {},
   "outputs": [
    {
     "data": {
      "text/plain": [
       "False"
      ]
     },
     "execution_count": 15,
     "metadata": {},
     "output_type": "execute_result"
    }
   ],
   "source": [
    "invalid_sig = sig[:]\n",
    "invalid_sig[17] += 1\n",
    "c_invalid_sig = ctypes.ARRAY(c_char, len(invalid_sig)).from_buffer(invalid_sig)\n",
    "\n",
    "libsodium.crypto_sign_verify_detached(\n",
    "    c_invalid_sig, c_other_msg, len(c_msg), c_pk\n",
    ") == 0"
   ]
  },
  {
   "cell_type": "markdown",
   "metadata": {},
   "source": [
    "## Writing a sharing library"
   ]
  },
  {
   "cell_type": "code",
   "execution_count": 16,
   "metadata": {},
   "outputs": [
    {
     "name": "stdout",
     "output_type": "stream",
     "text": [
      "#ifndef foo_h__\r\n",
      "#define foo_h__\r\n",
      " \r\n",
      "extern int the_answer_to_life_the_universe_and_everything(void);\r\n",
      "\r\n",
      "#endif  // foo_h__\r\n",
      "\r\n"
     ]
    }
   ],
   "source": [
    "!cat foo.h"
   ]
  },
  {
   "cell_type": "code",
   "execution_count": 17,
   "metadata": {},
   "outputs": [
    {
     "name": "stdout",
     "output_type": "stream",
     "text": [
      "#include <stdio.h>\r\n",
      " \r\n",
      "int the_answer_to_life_the_universe_and_everything(void)\r\n",
      "{\r\n",
      "\treturn 42;\r\n",
      "}\r\n"
     ]
    }
   ],
   "source": [
    "!cat foo.c"
   ]
  },
  {
   "cell_type": "code",
   "execution_count": 18,
   "metadata": {},
   "outputs": [
    {
     "name": "stdout",
     "output_type": "stream",
     "text": [
      "ctypes-demo.ipynb  foo.c  foo.h  Pipfile\r\n"
     ]
    }
   ],
   "source": [
    "!rm -f foo.o libfoo.so && ls"
   ]
  },
  {
   "cell_type": "code",
   "execution_count": 19,
   "metadata": {},
   "outputs": [],
   "source": [
    "!gcc -c -Wall -Werror -fpic foo.c"
   ]
  },
  {
   "cell_type": "code",
   "execution_count": 20,
   "metadata": {},
   "outputs": [],
   "source": [
    "!gcc -shared -o libfoo.so foo.o"
   ]
  },
  {
   "cell_type": "code",
   "execution_count": 21,
   "metadata": {},
   "outputs": [
    {
     "name": "stdout",
     "output_type": "stream",
     "text": [
      "ctypes-demo.ipynb  foo.c  foo.h  foo.o\tlibfoo.so  Pipfile\r\n"
     ]
    }
   ],
   "source": [
    "!ls"
   ]
  },
  {
   "cell_type": "code",
   "execution_count": 22,
   "metadata": {},
   "outputs": [
    {
     "data": {
      "text/plain": [
       "42"
      ]
     },
     "execution_count": 22,
     "metadata": {},
     "output_type": "execute_result"
    }
   ],
   "source": [
    "libfoo = cdll.LoadLibrary('./libfoo.so')\n",
    "libfoo.the_answer_to_life_the_universe_and_everything()"
   ]
  }
 ],
 "metadata": {
  "kernelspec": {
   "display_name": "Python 3",
   "language": "python",
   "name": "python3"
  },
  "language_info": {
   "codemirror_mode": {
    "name": "ipython",
    "version": 3
   },
   "file_extension": ".py",
   "mimetype": "text/x-python",
   "name": "python",
   "nbconvert_exporter": "python",
   "pygments_lexer": "ipython3",
   "version": "3.7.0"
  }
 },
 "nbformat": 4,
 "nbformat_minor": 2
}
